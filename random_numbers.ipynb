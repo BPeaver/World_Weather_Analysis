{
 "cells": [
  {
   "cell_type": "code",
   "execution_count": 1,
   "id": "f5a60628",
   "metadata": {},
   "outputs": [],
   "source": [
    "#Import the random module\n",
    "import random\n"
   ]
  },
  {
   "cell_type": "code",
   "execution_count": 2,
   "id": "2e336107",
   "metadata": {},
   "outputs": [
    {
     "data": {
      "text/plain": [
       "[9.220587722577873,\n",
       " 1.4425811440191292,\n",
       " 2.100966389102945,\n",
       " 86.31809557493867,\n",
       " -20.839216734561994,\n",
       " -38.00301602464894,\n",
       " 76.39523505928358,\n",
       " 58.66017266563844,\n",
       " -68.03592228473133,\n",
       " 3.8087118523187047]"
      ]
     },
     "execution_count": 2,
     "metadata": {},
     "output_type": "execute_result"
    }
   ],
   "source": [
    "x = 1\n",
    "latitudes = []\n",
    "while x < 11:\n",
    "    random_lat = random.randint(-90, 89) + random.random()\n",
    "    latitudes.append(random_lat)\n",
    "    x += 1\n",
    "\n",
    "latitudes"
   ]
  },
  {
   "cell_type": "code",
   "execution_count": 3,
   "id": "4bd3ef77",
   "metadata": {},
   "outputs": [
    {
     "data": {
      "text/plain": [
       "-42"
      ]
     },
     "execution_count": 3,
     "metadata": {},
     "output_type": "execute_result"
    }
   ],
   "source": [
    "random.randrange(-90, 90, step=3)"
   ]
  },
  {
   "cell_type": "code",
   "execution_count": 4,
   "id": "a3bef7e5",
   "metadata": {},
   "outputs": [
    {
     "data": {
      "text/plain": [
       "17.268079488240673"
      ]
     },
     "execution_count": 4,
     "metadata": {},
     "output_type": "execute_result"
    }
   ],
   "source": [
    "random.uniform(-90, 90)"
   ]
  },
  {
   "cell_type": "code",
   "execution_count": 5,
   "id": "2a88b58b",
   "metadata": {},
   "outputs": [],
   "source": [
    "# Import the NumPy module.\n",
    "import numpy as np"
   ]
  },
  {
   "cell_type": "code",
   "execution_count": 6,
   "id": "f8caf9e0",
   "metadata": {},
   "outputs": [
    {
     "data": {
      "text/plain": [
       "-9.201803754485056"
      ]
     },
     "execution_count": 6,
     "metadata": {},
     "output_type": "execute_result"
    }
   ],
   "source": [
    "np.random.uniform(-90.000, 90.000)"
   ]
  },
  {
   "cell_type": "code",
   "execution_count": 7,
   "id": "907d1a97",
   "metadata": {},
   "outputs": [
    {
     "data": {
      "text/plain": [
       "-41.57450516679014"
      ]
     },
     "execution_count": 7,
     "metadata": {},
     "output_type": "execute_result"
    }
   ],
   "source": [
    "np.random.uniform(low=-90, high=90)"
   ]
  },
  {
   "cell_type": "code",
   "execution_count": 8,
   "id": "1a1f2218",
   "metadata": {},
   "outputs": [
    {
     "data": {
      "text/plain": [
       "array([-84.61537557, -84.46920051, -67.35225197, -42.83096307,\n",
       "         2.92802461,  16.53926253, -86.51698119, -42.28376332,\n",
       "        45.24805632,  81.91431721, -53.05605892,  84.71674259,\n",
       "       -55.79556716,  42.56803665,   6.13896197, -82.21828184,\n",
       "       -85.75461186, -11.23730545, -69.22082485, -49.79159846,\n",
       "        78.06752111,  64.92155798,  86.07944164, -78.14113042,\n",
       "        67.62505242,  12.17608694,  37.11251708, -68.99853374,\n",
       "       -68.21976389,  -6.41308151,  32.66638786,  20.94811848,\n",
       "       -15.17842816,  54.49918217, -41.3013469 ,  71.56156958,\n",
       "        29.26582729, -21.87012616, -48.95683189,  48.83306463,\n",
       "       -32.82656847, -86.25546223,  86.77330953, -82.37501603,\n",
       "         3.20041686, -50.80190365, -14.85980124,  -1.33164335,\n",
       "        32.25276273, -43.43496272])"
      ]
     },
     "execution_count": 8,
     "metadata": {},
     "output_type": "execute_result"
    }
   ],
   "source": [
    "np.random.uniform(-90.000, 90.000, size=50)"
   ]
  },
  {
   "cell_type": "code",
   "execution_count": 9,
   "id": "1e850529",
   "metadata": {},
   "outputs": [],
   "source": [
    "# Import timeit.\n",
    "import timeit"
   ]
  },
  {
   "cell_type": "code",
   "execution_count": 10,
   "id": "ee1ece74",
   "metadata": {},
   "outputs": [
    {
     "name": "stdout",
     "output_type": "stream",
     "text": [
      "13.9 µs ± 45.1 ns per loop (mean ± std. dev. of 7 runs, 100000 loops each)\n"
     ]
    }
   ],
   "source": [
    "%timeit np.random.uniform(-90.000, 90.000, size=1500)"
   ]
  },
  {
   "cell_type": "code",
   "execution_count": 11,
   "id": "5df30c54",
   "metadata": {},
   "outputs": [
    {
     "name": "stdout",
     "output_type": "stream",
     "text": [
      "2.05 ms ± 131 µs per loop (mean ± std. dev. of 7 runs, 100 loops each)\n"
     ]
    }
   ],
   "source": [
    "def latitudes(size):\n",
    "    latitudes = []\n",
    "    x = 0\n",
    "    while x < (size):\n",
    "        random_lat = random.randint(-90, 90) + random.random()\n",
    "        latitudes.append(random_lat)\n",
    "        x += 1\n",
    "    return latitudes\n",
    "# Call the function with 1500.\n",
    "%timeit latitudes(1500)"
   ]
  },
  {
   "cell_type": "code",
   "execution_count": null,
   "id": "1e7ff9ae",
   "metadata": {},
   "outputs": [],
   "source": []
  }
 ],
 "metadata": {
  "kernelspec": {
   "display_name": "PythonData",
   "language": "python",
   "name": "pythondata"
  },
  "language_info": {
   "codemirror_mode": {
    "name": "ipython",
    "version": 3
   },
   "file_extension": ".py",
   "mimetype": "text/x-python",
   "name": "python",
   "nbconvert_exporter": "python",
   "pygments_lexer": "ipython3",
   "version": "3.7.11"
  }
 },
 "nbformat": 4,
 "nbformat_minor": 5
}
